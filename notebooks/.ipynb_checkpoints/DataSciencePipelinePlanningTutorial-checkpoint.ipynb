{
 "cells": [
  {
   "cell_type": "markdown",
   "id": "pursuant-microphone",
   "metadata": {},
   "source": [
    "# Using AI planning to explore data science pipelines"
   ]
  },
  {
   "cell_type": "code",
   "execution_count": 1,
   "id": "fleet-charity",
   "metadata": {},
   "outputs": [
    {
     "data": {
      "text/plain": [
       "0"
      ]
     },
     "execution_count": 1,
     "metadata": {},
     "output_type": "execute_result"
    }
   ],
   "source": [
    "from __future__ import print_function\n",
    "import sys\n",
    "import os\n",
    "import types\n",
    "\n",
    "sys.path.append(os.path.abspath(os.path.join(os.getcwd(), \"../grammar2lale\")))\n",
    "\n",
    "# Clean output directory where we store planning and result files\n",
    "os.system('rm -rf ../output')\n",
    "os.system('mkdir -p ../output')\n"
   ]
  },
  {
   "cell_type": "markdown",
   "id": "passing-italian",
   "metadata": {},
   "source": [
    "## 1. Start with a Data Science grammar, in EBNF format"
   ]
  },
  {
   "cell_type": "code",
   "execution_count": 2,
   "id": "continued-patient",
   "metadata": {},
   "outputs": [
    {
     "data": {
      "text/plain": [
       "0"
      ]
     },
     "execution_count": 2,
     "metadata": {},
     "output_type": "execute_result"
    }
   ],
   "source": [
    "# This is the grammar file we will use\n",
    "GRAMMAR_FILE=\"../grammar/dsgrammar-subset-sklearn.bnf\"\n",
    "\n",
    "# Copy grammar to the output directory\n",
    "os.system(\"cp \" + GRAMMAR_FILE + \" ../output/\")"
   ]
  },
  {
   "cell_type": "markdown",
   "id": "reserved-mattress",
   "metadata": {},
   "source": [
    "## 2. Convert the grammar into an HTN domain and problem"
   ]
  },
  {
   "cell_type": "code",
   "execution_count": 3,
   "id": "floral-baghdad",
   "metadata": {},
   "outputs": [
    {
     "name": "stdout",
     "output_type": "stream",
     "text": [
      "Generating HTN specification from grammar\n",
      "Printing HTN domain\n"
     ]
    }
   ],
   "source": [
    "from grammar2lale import Grammar2Lale\n",
    "\n",
    "# Generate HTN specifications\n",
    "G2L = Grammar2Lale(grammar_file=GRAMMAR_FILE)\n",
    "with open(\"../output/domain.htn\", \"w\") as f:\n",
    "    f.write(G2L.htn_domain);\n",
    "with open(\"../output/problem.htn\", \"w\") as f:\n",
    "    f.write(G2L.htn_problem);\n"
   ]
  },
  {
   "cell_type": "markdown",
   "id": "careful-syndrome",
   "metadata": {},
   "source": [
    "## 3. Use https://github.com/ronwalf/HTN-Translation to translate to a PDDL task"
   ]
  },
  {
   "cell_type": "code",
   "execution_count": 4,
   "id": "confident-proof",
   "metadata": {
    "scrolled": false
   },
   "outputs": [
    {
     "data": {
      "application/vnd.jupyter.widget-view+json": {
       "model_id": "a85d9397ee79480ea3236f078ba0e4b5",
       "version_major": 2,
       "version_minor": 0
      },
      "text/plain": [
       "interactive(children=(IntSlider(value=10, description='num_pipelines', min=1), SelectMultiple(description='Sea…"
      ]
     },
     "metadata": {},
     "output_type": "display_data"
    }
   ],
   "source": [
    "import re\n",
    "from ipywidgets import interact, interactive, fixed, interact_manual\n",
    "import ipywidgets as widgets\n",
    "\n",
    "# as a safety step, setting costs to 0 for any parts of the grammar that are non-identifiers (e.g., parens, etc.)\n",
    "for token in G2L.htn.mapping:\n",
    "    if not re.match('^[_a-zA-Z]', str(token)):\n",
    "        G2L.costs[token] = 0\n",
    "        \n",
    "# prepare the list of possible constraints\n",
    "constraint_options = G2L.get_selectable_constraints()\n",
    "constraint_options.sort()    \n",
    "\n",
    "# prepare a constraint selection form\n",
    "interact_pipeline_params=interact.options(manual=True, manual_name='Generate PDDL')\n",
    "\n",
    "\n",
    "pipelines = []\n",
    "NUM_PIPELINES = 10\n",
    "CONSTRAINTS = []\n",
    "\n",
    "\n",
    "# This is the function that handles the constraint selection\n",
    "@interact_pipeline_params(num_pipelines=widgets.IntSlider(value=10, min=1, max=100), \n",
    "                          constraints=widgets.SelectMultiple(options=constraint_options,\n",
    "                                           description='Search constraints',\n",
    "                                           rows=min(20, len(constraint_options))))\n",
    "def select_pipeline_gen_params(num_pipelines, constraints):\n",
    "    global pipelines\n",
    "    global NUM_PIPELINES\n",
    "    global CONSTRAINTS\n",
    "    NUM_PIPELINES = num_pipelines\n",
    "    CONSTRAINTS = list(constraints)\n",
    "    G2L.create_pddl_task(NUM_PIPELINES, CONSTRAINTS)\n",
    "    with open(\"../output/domain.pddl\", \"w\") as f:\n",
    "        f.write(G2L.last_task['domain'])\n",
    "    with open(\"../output/problem.pddl\", \"w\") as f:\n",
    "        f.write(G2L.last_task['problem'])\n"
   ]
  },
  {
   "cell_type": "markdown",
   "id": "mexican-marble",
   "metadata": {},
   "source": [
    "## 4. Use a planner to solve the planning task (in this case, kstar: https://github.com/ctpelok77/kstar)"
   ]
  },
  {
   "cell_type": "code",
   "execution_count": 5,
   "id": "forward-frequency",
   "metadata": {},
   "outputs": [
    {
     "name": "stdout",
     "output_type": "stream",
     "text": [
      "Running the planner...\n",
      "Created domain file in /tmp/0f753b75-0a22-4a71-931f-f42ee0797922/domain.pddl\n",
      "Created problem file in /tmp/0f753b75-0a22-4a71-931f-f42ee0797922/problem.pddl\n",
      "Running ['kstar', '/tmp/0f753b75-0a22-4a71-931f-f42ee0797922/domain.pddl', '/tmp/0f753b75-0a22-4a71-931f-f42ee0797922/problem.pddl', '--search', '\"kstar(blind(),k=50,json_file_to_dump=result.json)\"']\n",
      "Plans returned after 1.1174533367156982 seconds.\n"
     ]
    }
   ],
   "source": [
    "import json\n",
    "\n",
    "G2L.run_pddl_planner()\n",
    "with open(\"../output/first_planner_call.json\", \"w\") as f:\n",
    "    f.write(json.dumps(G2L.last_planner_object, indent=3))"
   ]
  },
  {
   "cell_type": "markdown",
   "id": "material-mumbai",
   "metadata": {},
   "source": [
    "## 5. Translate plans to LALE (https://github.com/IBM/lale) Data Science pipelines"
   ]
  },
  {
   "cell_type": "code",
   "execution_count": 6,
   "id": "innocent-hudson",
   "metadata": {},
   "outputs": [
    {
     "name": "stdout",
     "output_type": "stream",
     "text": [
      "Translating plans to LALE pipelines.\n"
     ]
    },
    {
     "data": {
      "application/vnd.jupyter.widget-view+json": {
       "model_id": "5f98fb74d38944c5b5758caf64f6d58a",
       "version_major": 2,
       "version_minor": 0
      },
      "text/plain": [
       "interactive(children=(Dropdown(description='pipeline', options=(['Normalizer() >> LogisticRegression()', {'id'…"
      ]
     },
     "metadata": {},
     "output_type": "display_data"
    },
    {
     "data": {
      "text/plain": [
       "<function __main__.show_pipeline(pipeline)>"
      ]
     },
     "execution_count": 6,
     "metadata": {},
     "output_type": "execute_result"
    }
   ],
   "source": [
    "# Translate to pipelines\n",
    "pipelines = G2L.translate_to_pipelines(NUM_PIPELINES)\n",
    "\n",
    "from pipeline_optimizer import PipelineOptimizer\n",
    "from sklearn.datasets import load_iris\n",
    "\n",
    "from lale.helpers import to_graphviz\n",
    "from lale.lib.sklearn import *\n",
    "from lale.lib.lale import ConcatFeatures as Concat\n",
    "from lale.lib.lale import NoOp\n",
    "from lale.lib.sklearn import KNeighborsClassifier as KNN\n",
    "from lale.lib.sklearn import OneHotEncoder as OneHotEnc\n",
    "from lale.lib.sklearn import Nystroem\n",
    "from lale.lib.sklearn import PCA\n",
    "\n",
    "optimizer = PipelineOptimizer(load_iris(return_X_y=True))\n",
    "# instantiate LALE objects from pipeline definitions\n",
    "LALE_pipelines = [optimizer.to_lale_pipeline(p) for p in pipelines]\n",
    "\n",
    "# Display selected pipeline\n",
    "def show_pipeline(pipeline):\n",
    "    print(\"Displaying pipeline \" + pipeline['id'] + \", with cost \" + str(pipeline['score']))\n",
    "    print(pipeline['pipeline'])\n",
    "    print('==================================================================================')\n",
    "    print()\n",
    "    print()\n",
    "    print()\n",
    "    display(to_graphviz(pipeline['lale_pipeline']))\n",
    "\n",
    "display_pipelines = [[p['pipeline'], p] for p in LALE_pipelines]    \n",
    "    \n",
    "interact(show_pipeline, pipeline=display_pipelines)"
   ]
  },
  {
   "cell_type": "markdown",
   "id": "banner-receipt",
   "metadata": {},
   "source": [
    "## 6. Run one of the pipelines on sample data"
   ]
  },
  {
   "cell_type": "code",
   "execution_count": null,
   "id": "comic-insured",
   "metadata": {},
   "outputs": [],
   "source": []
  },
  {
   "cell_type": "markdown",
   "id": "excited-companion",
   "metadata": {},
   "source": [
    "## 7. Train hyperparameters and evaluate the resulting LALE pipelines"
   ]
  },
  {
   "cell_type": "code",
   "execution_count": 7,
   "id": "convertible-washer",
   "metadata": {},
   "outputs": [
    {
     "name": "stdout",
     "output_type": "stream",
     "text": [
      "Plan 1/10\n",
      "Starting to optimize Normalizer() >> LogisticRegression()\n",
      "100%|██████████| 20/20 [00:05<00:00,  3.55trial/s, best loss: -0.8200000000000001]\n",
      "Fit completed.\n",
      "Predict completed.\n",
      "Best accuracy: 0.9\n",
      "Completed optimization for Normalizer() >> LogisticRegression()\n",
      "Plan 2/10\n",
      "Starting to optimize Normalizer() >> GaussianNB()\n",
      "100%|██████████| 20/20 [00:05<00:00,  3.58trial/s, best loss: -0.97]\n",
      "Fit completed.\n",
      "Predict completed.\n",
      "Best accuracy: 0.9733333333333334\n",
      "Completed optimization for Normalizer() >> GaussianNB()\n",
      "Plan 3/10\n",
      "Starting to optimize Normalizer() >> DecisionTreeClassifier()\n",
      "100%|██████████| 20/20 [00:08<00:00,  2.25trial/s, best loss: -0.9]\n",
      "Fit completed.\n",
      "Predict completed.\n",
      "Best accuracy: 0.9333333333333333\n",
      "Completed optimization for Normalizer() >> DecisionTreeClassifier()\n",
      "Plan 4/10\n",
      "Starting to optimize Normalizer() >> QuadraticDiscriminantAnalysis()\n",
      "100%|██████████| 20/20 [00:04<00:00,  4.35trial/s, best loss: -0.96]\n",
      "Fit completed.\n",
      "Predict completed.\n",
      "Best accuracy: 0.9733333333333334\n",
      "Completed optimization for Normalizer() >> QuadraticDiscriminantAnalysis()\n",
      "Plan 5/10\n",
      "Starting to optimize Normalizer() >> KNeighborsClassifier()\n",
      "100%|██████████| 20/20 [00:08<00:00,  2.32trial/s, best loss: -0.97]\n",
      "Fit completed.\n",
      "Predict completed.\n",
      "Best accuracy: 1.0\n",
      "Completed optimization for Normalizer() >> KNeighborsClassifier()\n",
      "Plan 6/10\n",
      "Starting to optimize StandardScaler() >> LogisticRegression()\n",
      "100%|██████████| 20/20 [00:07<00:00,  2.81trial/s, best loss: -0.97]             \n",
      "Fit completed.\n",
      "Predict completed.\n",
      "Best accuracy: 0.98\n",
      "Completed optimization for StandardScaler() >> LogisticRegression()\n",
      "Plan 7/10\n",
      "Starting to optimize RobustScaler() >> LogisticRegression()\n",
      "100%|██████████| 20/20 [00:05<00:00,  3.35trial/s, best loss: -0.97]             \n",
      "Fit completed.\n",
      "Predict completed.\n",
      "Best accuracy: 0.98\n",
      "Completed optimization for RobustScaler() >> LogisticRegression()\n",
      "Plan 8/10\n",
      "Starting to optimize MinMaxScaler() >> LogisticRegression()\n",
      "100%|██████████| 20/20 [00:05<00:00,  3.59trial/s, best loss: -0.89]\n",
      "Fit completed.\n",
      "Predict completed.\n",
      "Best accuracy: 0.94\n",
      "Completed optimization for MinMaxScaler() >> LogisticRegression()\n",
      "Plan 9/10\n",
      "Starting to optimize StandardScaler() >> KNeighborsClassifier()\n",
      "100%|██████████| 20/20 [00:09<00:00,  2.03trial/s, best loss: -0.96]             \n",
      "Fit completed.\n",
      "Predict completed.\n",
      "Best accuracy: 1.0\n",
      "Completed optimization for StandardScaler() >> KNeighborsClassifier()\n",
      "Plan 10/10\n",
      "Starting to optimize RobustScaler() >> KNeighborsClassifier()\n",
      "100%|██████████| 20/20 [00:08<00:00,  2.27trial/s, best loss: -0.97]             \n",
      "Fit completed.\n",
      "Predict completed.\n",
      "Best accuracy: 1.0\n",
      "Completed optimization for RobustScaler() >> KNeighborsClassifier()\n"
     ]
    }
   ],
   "source": [
    "trained_pipelines, dropped_pipelines = optimizer.evaluate_and_train_pipelines(pipelines)"
   ]
  },
  {
   "cell_type": "code",
   "execution_count": 8,
   "id": "flexible-mountain",
   "metadata": {},
   "outputs": [
    {
     "data": {
      "text/html": [
       "<table>\n",
       "<thead>\n",
       "<tr><th>Pipeline                                                                                                                                                                                                                                                                                                                                                             </th><th style=\"text-align: right;\">  Accuracy</th></tr>\n",
       "</thead>\n",
       "<tbody>\n",
       "<tr><td>from lale.lib.lale import Hyperopt<br/>from sklearn.preprocessing import Normalizer<br/>from sklearn.linear_model import LogisticRegression<br/>import lale<br/><br/>lale.wrap_imported_operators()<br/>pipeline = Hyperopt(<br/>    estimator=Normalizer() >> LogisticRegression(), max_evals=20, scoring=\"r2\"<br/>)                                                </td><td style=\"text-align: right;\">  0.9     </td></tr>\n",
       "<tr><td>from lale.lib.lale import Hyperopt<br/>from sklearn.preprocessing import Normalizer<br/>from sklearn.naive_bayes import GaussianNB<br/>import lale<br/><br/>lale.wrap_imported_operators()<br/>pipeline = Hyperopt(<br/>    estimator=Normalizer() >> GaussianNB(), max_evals=20, scoring=\"r2\"<br/>)                                                                 </td><td style=\"text-align: right;\">  0.973333</td></tr>\n",
       "<tr><td>from lale.lib.lale import Hyperopt<br/>from sklearn.preprocessing import Normalizer<br/>from sklearn.tree import DecisionTreeClassifier<br/>import lale<br/><br/>lale.wrap_imported_operators()<br/>pipeline = Hyperopt(<br/>    estimator=Normalizer() >> DecisionTreeClassifier(),<br/>    max_evals=20,<br/>    scoring=\"r2\",<br/>)                               </td><td style=\"text-align: right;\">  0.933333</td></tr>\n",
       "<tr><td>from lale.lib.lale import Hyperopt<br/>from sklearn.preprocessing import Normalizer<br/>from sklearn.discriminant_analysis import QuadraticDiscriminantAnalysis<br/>import lale<br/><br/>lale.wrap_imported_operators()<br/>pipeline = Hyperopt(<br/>    estimator=Normalizer() >> QuadraticDiscriminantAnalysis(),<br/>    max_evals=20,<br/>    scoring=\"r2\",<br/>)</td><td style=\"text-align: right;\">  0.973333</td></tr>\n",
       "<tr><td>from lale.lib.lale import Hyperopt<br/>from sklearn.preprocessing import Normalizer<br/>from sklearn.neighbors import KNeighborsClassifier as KNN<br/>import lale<br/><br/>lale.wrap_imported_operators()<br/>pipeline = Hyperopt(<br/>    estimator=Normalizer() >> KNN(), max_evals=20, scoring=\"r2\"<br/>)                                                         </td><td style=\"text-align: right;\">  1       </td></tr>\n",
       "<tr><td>from lale.lib.lale import Hyperopt<br/>from sklearn.preprocessing import StandardScaler<br/>from sklearn.linear_model import LogisticRegression<br/>import lale<br/><br/>lale.wrap_imported_operators()<br/>pipeline = Hyperopt(<br/>    estimator=StandardScaler() >> LogisticRegression(),<br/>    max_evals=20,<br/>    scoring=\"r2\",<br/>)                       </td><td style=\"text-align: right;\">  0.98    </td></tr>\n",
       "<tr><td>from lale.lib.lale import Hyperopt<br/>from sklearn.preprocessing import RobustScaler<br/>from sklearn.linear_model import LogisticRegression<br/>import lale<br/><br/>lale.wrap_imported_operators()<br/>pipeline = Hyperopt(<br/>    estimator=RobustScaler() >> LogisticRegression(),<br/>    max_evals=20,<br/>    scoring=\"r2\",<br/>)                           </td><td style=\"text-align: right;\">  0.98    </td></tr>\n",
       "<tr><td>from lale.lib.lale import Hyperopt<br/>from sklearn.preprocessing import MinMaxScaler<br/>from sklearn.linear_model import LogisticRegression<br/>import lale<br/><br/>lale.wrap_imported_operators()<br/>pipeline = Hyperopt(<br/>    estimator=MinMaxScaler() >> LogisticRegression(),<br/>    max_evals=20,<br/>    scoring=\"r2\",<br/>)                           </td><td style=\"text-align: right;\">  0.94    </td></tr>\n",
       "<tr><td>from lale.lib.lale import Hyperopt<br/>from sklearn.preprocessing import StandardScaler<br/>from sklearn.neighbors import KNeighborsClassifier as KNN<br/>import lale<br/><br/>lale.wrap_imported_operators()<br/>pipeline = Hyperopt(<br/>    estimator=StandardScaler() >> KNN(), max_evals=20, scoring=\"r2\"<br/>)                                                 </td><td style=\"text-align: right;\">  1       </td></tr>\n",
       "<tr><td>from lale.lib.lale import Hyperopt<br/>from sklearn.preprocessing import RobustScaler<br/>from sklearn.neighbors import KNeighborsClassifier as KNN<br/>import lale<br/><br/>lale.wrap_imported_operators()<br/>pipeline = Hyperopt(<br/>    estimator=RobustScaler() >> KNN(), max_evals=20, scoring=\"r2\"<br/>)                                                     </td><td style=\"text-align: right;\">  1       </td></tr>\n",
       "</tbody>\n",
       "</table>"
      ],
      "text/plain": [
       "<IPython.core.display.HTML object>"
      ]
     },
     "metadata": {},
     "output_type": "display_data"
    }
   ],
   "source": [
    "from IPython.display import HTML\n",
    "from tabulate import tabulate\n",
    "from lale.pretty_print import to_string\n",
    "\n",
    "def show_pipeline_accuracy(tp):\n",
    "    pipeline_table = [[to_string(p['trained_pipeline']).replace('\\n', '<br/>'), str(p['best_accuracy'])] for p in tp]\n",
    "    display(HTML(tabulate(pipeline_table, headers=['Pipeline', 'Accuracy'], tablefmt='html')))\n",
    "\n",
    "\n",
    "show_pipeline_accuracy(trained_pipelines)"
   ]
  },
  {
   "cell_type": "markdown",
   "id": "random-auditor",
   "metadata": {},
   "source": [
    "## 8. Use pipeline accuracy to compute new PDDL action costs"
   ]
  },
  {
   "cell_type": "code",
   "execution_count": 9,
   "id": "trying-netscape",
   "metadata": {},
   "outputs": [
    {
     "data": {
      "text/html": [
       "<table>\n",
       "<thead>\n",
       "<tr><th>Pipeline element               </th><th style=\"text-align: right;\">  Computed cost</th></tr>\n",
       "</thead>\n",
       "<tbody>\n",
       "<tr><td>Normalizer()                   </td><td style=\"text-align: right;\">             72</td></tr>\n",
       "<tr><td>>>                             </td><td style=\"text-align: right;\">              0</td></tr>\n",
       "<tr><td>LogisticRegression()           </td><td style=\"text-align: right;\">             75</td></tr>\n",
       "<tr><td>GaussianNB()                   </td><td style=\"text-align: right;\">             63</td></tr>\n",
       "<tr><td>DecisionTreeClassifier()       </td><td style=\"text-align: right;\">             84</td></tr>\n",
       "<tr><td>QuadraticDiscriminantAnalysis()</td><td style=\"text-align: right;\">             63</td></tr>\n",
       "<tr><td>KNeighborsClassifier()         </td><td style=\"text-align: right;\">             50</td></tr>\n",
       "<tr><td>StandardScaler()               </td><td style=\"text-align: right;\">             55</td></tr>\n",
       "<tr><td>RobustScaler()                 </td><td style=\"text-align: right;\">             55</td></tr>\n",
       "<tr><td>MinMaxScaler()                 </td><td style=\"text-align: right;\">             80</td></tr>\n",
       "<tr><td>(                              </td><td style=\"text-align: right;\">              0</td></tr>\n",
       "<tr><td>)                              </td><td style=\"text-align: right;\">              0</td></tr>\n",
       "<tr><td>&                              </td><td style=\"text-align: right;\">              0</td></tr>\n",
       "<tr><td>                               </td><td style=\"text-align: right;\">              0</td></tr>\n",
       "</tbody>\n",
       "</table>"
      ],
      "text/plain": [
       "<IPython.core.display.HTML object>"
      ]
     },
     "metadata": {},
     "output_type": "display_data"
    }
   ],
   "source": [
    "feedback = optimizer.get_feedback(trained_pipelines)\n",
    "G2L.feedback(feedback)\n",
    "costs_table = [[str(k), G2L.costs[k]] for k in G2L.costs.keys()]\n",
    "display(HTML(tabulate(costs_table, headers=['Pipeline element', 'Computed cost'], tablefmt='html')))"
   ]
  },
  {
   "cell_type": "markdown",
   "id": "unlikely-underwear",
   "metadata": {},
   "source": [
    "## 9. Invoke planner again on updated PDDL task and translate to pipelines"
   ]
  },
  {
   "cell_type": "code",
   "execution_count": 10,
   "id": "efficient-landing",
   "metadata": {},
   "outputs": [
    {
     "name": "stdout",
     "output_type": "stream",
     "text": [
      "Generating PDDL description...\n",
      "Obtaining 10 plans with constraints []\n",
      "Running the planner...\n",
      "Created domain file in /tmp/b2a957ee-8789-4498-813e-94e219cfae67/domain.pddl\n",
      "Created problem file in /tmp/b2a957ee-8789-4498-813e-94e219cfae67/problem.pddl\n",
      "Running ['kstar', '/tmp/b2a957ee-8789-4498-813e-94e219cfae67/domain.pddl', '/tmp/b2a957ee-8789-4498-813e-94e219cfae67/problem.pddl', '--search', '\"kstar(blind(),k=50,json_file_to_dump=result.json)\"']\n",
      "Plans returned after 1.1630041599273682 seconds.\n",
      "Translating plans to LALE pipelines.\n"
     ]
    },
    {
     "data": {
      "text/html": [
       "<table>\n",
       "<thead>\n",
       "<tr><th>First iteration                                </th><th>After feedback                                  </th></tr>\n",
       "</thead>\n",
       "<tbody>\n",
       "<tr><td>Normalizer() >> LogisticRegression()           </td><td>PCA() >> KNeighborsClassifier()                 </td></tr>\n",
       "<tr><td>Normalizer() >> GaussianNB()                   </td><td>PCA() >> GradientBoostingClassifier()           </td></tr>\n",
       "<tr><td>Normalizer() >> DecisionTreeClassifier()       </td><td>PCA() >> RandomForestClassifier()               </td></tr>\n",
       "<tr><td>Normalizer() >> QuadraticDiscriminantAnalysis()</td><td>PCA() >> ExtraTreesClassifier()                 </td></tr>\n",
       "<tr><td>Normalizer() >> KNeighborsClassifier()         </td><td>StandardScaler() >> KNeighborsClassifier()      </td></tr>\n",
       "<tr><td>StandardScaler() >> LogisticRegression()       </td><td>RobustScaler() >> KNeighborsClassifier()        </td></tr>\n",
       "<tr><td>RobustScaler() >> LogisticRegression()         </td><td>StandardScaler() >> ExtraTreesClassifier()      </td></tr>\n",
       "<tr><td>MinMaxScaler() >> LogisticRegression()         </td><td>RobustScaler() >> ExtraTreesClassifier()        </td></tr>\n",
       "<tr><td>StandardScaler() >> KNeighborsClassifier()     </td><td>StandardScaler() >> GradientBoostingClassifier()</td></tr>\n",
       "<tr><td>RobustScaler() >> KNeighborsClassifier()       </td><td>RobustScaler() >> GradientBoostingClassifier()  </td></tr>\n",
       "</tbody>\n",
       "</table>"
      ],
      "text/plain": [
       "<IPython.core.display.HTML object>"
      ]
     },
     "metadata": {},
     "output_type": "display_data"
    }
   ],
   "source": [
    "new_pipelines = G2L.get_plans(num_pipelines=NUM_PIPELINES, constraints=CONSTRAINTS)\n",
    "\n",
    "with open('../output/domain_after_feedback.pddl', 'w') as f:\n",
    "    f.write(G2L.last_task['domain'])\n",
    "with open('../output/problem_after_feedback.pddl', 'w') as f:\n",
    "    f.write(G2L.last_task['problem'])\n",
    "with open('../output/second_planner_call.json', 'w') as f:\n",
    "    f.write(json.dumps(G2L.last_planner_object, indent=3))\n",
    "\n",
    "new_pipeline_table = [[pipelines[idx]['pipeline'], new_pipelines[idx]['pipeline']] for idx in range(min(len(pipelines), len(new_pipelines)))]\n",
    "display(HTML(tabulate(new_pipeline_table, headers=['First iteration', 'After feedback'], tablefmt='html')))\n"
   ]
  }
 ],
 "metadata": {
  "kernelspec": {
   "display_name": "Python 3",
   "language": "python",
   "name": "python3"
  },
  "language_info": {
   "codemirror_mode": {
    "name": "ipython",
    "version": 3
   },
   "file_extension": ".py",
   "mimetype": "text/x-python",
   "name": "python",
   "nbconvert_exporter": "python",
   "pygments_lexer": "ipython3",
   "version": "3.6.8"
  }
 },
 "nbformat": 4,
 "nbformat_minor": 5
}
